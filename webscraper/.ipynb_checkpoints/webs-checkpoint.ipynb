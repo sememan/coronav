{
 "cells": [
  {
   "cell_type": "code",
   "execution_count": null,
   "metadata": {
    "scrolled": true
   },
   "outputs": [
    {
     "name": "stdout",
     "output_type": "stream",
     "text": [
      "portugal\n"
     ]
    }
   ],
   "source": [
    "# Import libraries\n",
    "import requests\n",
    "import urllib.request\n",
    "import time\n",
    "from bs4 import BeautifulSoup\n",
    "\n",
    "import pandas as pd\n",
    "from dateutil.parser import parse\n",
    "\n",
    "countries = [\n",
    "    'portugal','spain','italy','france','germany','uk',\n",
    "    'us','iran','china','south-korea',\n",
    "]\n",
    "\n",
    "superes = {}\n",
    "\n",
    "for country in countries:\n",
    "    \n",
    "    print (country)\n",
    "\n",
    "    # Set the URL you want to webscrape from\n",
    "    url = 'https://www.worldometers.info/coronavirus/country/%s'%country\n",
    "\n",
    "    # Connect to the URL\n",
    "    response = requests.get(url)\n",
    "\n",
    "    # Parse HTML and save to BeautifulSoup object¶\n",
    "    soup = BeautifulSoup(response.text)\n",
    "\n",
    "    res = pd.DataFrame()\n",
    "\n",
    "    cases, deaths = [], []\n",
    "    for ul_tag in soup.find_all('ul', {'class':'news_ul'})[:3]:\n",
    "        i=0\n",
    "        for li_tag in ul_tag.find_all('li', {'class':'news_li'}):\n",
    "            i+=1\n",
    "            if i==3: break\n",
    "            strong_tag = li_tag.find_all('strong')\n",
    "            cases += [strong_tag[0].text.split(' new case')[0]]\n",
    "            deaths += [strong_tag[1].text.split(' new death')[0]]\n",
    "    res['cases'] = [np.nan if c==country else int(c) for c in cases]\n",
    "    res['deaths'] = [np.nan if d==country else int(d) for d in deaths]\n",
    "    \n",
    "    dates = []\n",
    "    for div_tag in soup.find_all('div'):\n",
    "        for d in div_tag:\n",
    "            if d.name == 'div' and d.get('class', '') == ['news_date']:\n",
    "                dates += [d.text.split(' (')[0]]\n",
    "    res['date'] = [str(d)[:10] \n",
    "                   for d in pd.to_datetime([parse(x) for x in dates[:len(cases)]], \n",
    "                                           format='%Y%m%d')]\n",
    "    print (res.set_index('date'))\n",
    "    print ()\n",
    "    \n",
    "    superes[country] = res.set_index('date')"
   ]
  },
  {
   "cell_type": "code",
   "execution_count": null,
   "metadata": {
    "scrolled": true
   },
   "outputs": [],
   "source": [
    "from datetime import timedelta, date\n",
    "import numpy as np\n",
    "\n",
    "xls = pd.ExcelFile(\"coronav_.xls\")\n",
    "# xls = pd.ExcelFile(\"../coronav.xls\")\n",
    "cases = xls.parse('cases')[['date']+countries]\n",
    "deaths = xls.parse('deaths')[['date']+countries]\n",
    "recovery = xls.parse('recovery')[['date']+countries]\n",
    "cases['date'] = cases['date'].astype(str)\n",
    "deaths['date'] = deaths['date'].astype(str)\n",
    "recovery['date'] = recovery['date'].astype(str)\n",
    "\n",
    "today = date.today()\n",
    "lastdate = cases.date.iloc[-1]\n",
    "iterations = (pd.to_datetime(today)-pd.to_datetime(lastdate)).days\n",
    "\n",
    "writer = pd.ExcelWriter(\"coronav_.xls\", engine='xlsxwriter')\n",
    "    \n",
    "for tmp_sheet, name in zip([cases,deaths],['cases','deaths']):\n",
    "    \n",
    "    for i in range(1,iterations):\n",
    "        print (i,name)\n",
    "        tmp_date = pd.to_datetime(lastdate) + timedelta(days=i)\n",
    "        tmp_country = [str(tmp_date)[:10]]\n",
    "        print (tmp_country[0], end=' ')\n",
    "          \n",
    "        for country in countries:\n",
    "            print (country, end=' ')\n",
    "            \n",
    "            if country not in ['china','south-korea']: \n",
    "                \n",
    "                try:\n",
    "                    tmp_country += [superes[country].loc[tmp_country[0],name]]\n",
    "                except KeyError:\n",
    "                    tmp_country += [np.nan]\n",
    "                    \n",
    "            else:\n",
    "                tmp_country += [np.nan]\n",
    "                \n",
    "        print ('\\n',tmp_country)\n",
    "    \n",
    "        tmp_sheet = tmp_sheet.append(\n",
    "            pd.DataFrame([tmp_country],columns=['date']+countries)\n",
    "        )\n",
    "        \n",
    "        tmp_sheet.to_excel(writer, name)\n",
    "\n",
    "recovery.to_excel(writer, 'recovery')\n",
    "writer.save()"
   ]
  },
  {
   "cell_type": "code",
   "execution_count": null,
   "metadata": {},
   "outputs": [],
   "source": [
    "tmp_sheet"
   ]
  },
  {
   "cell_type": "code",
   "execution_count": null,
   "metadata": {},
   "outputs": [],
   "source": []
  }
 ],
 "metadata": {
  "kernelspec": {
   "display_name": "Python 3",
   "language": "python",
   "name": "python3"
  },
  "language_info": {
   "codemirror_mode": {
    "name": "ipython",
    "version": 3
   },
   "file_extension": ".py",
   "mimetype": "text/x-python",
   "name": "python",
   "nbconvert_exporter": "python",
   "pygments_lexer": "ipython3",
   "version": "3.7.6"
  }
 },
 "nbformat": 4,
 "nbformat_minor": 4
}
